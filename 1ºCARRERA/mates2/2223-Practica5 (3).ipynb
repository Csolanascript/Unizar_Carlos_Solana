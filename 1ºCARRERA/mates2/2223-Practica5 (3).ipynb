{
 "cells": [
  {
   "cell_type": "markdown",
   "id": "db57cad7-b2a5-4e85-bcee-4bc33cc6a8ef",
   "metadata": {},
   "source": [
    "$$\n",
    "\\def\\CC{\\mathbb C}\n",
    "\\def\\QQ{\\mathbb Q}\n",
    "\\def\\RR{\\mathbb R}\n",
    "\\def\\ZZ{\\mathbb Z}\n",
    "\\def\\NN{\\mathbb N}\n",
    "\\def\\KK{\\mathbb K}\n",
    "$$\n",
    "# Práctica 5"
   ]
  },
  {
   "cell_type": "markdown",
   "id": "97e3848c-876a-407b-8bf1-8e29924749f2",
   "metadata": {},
   "source": [
    "### **Diagonalización. Valores y vectores propios**\n",
    "\n",
    "En la primera parte de esta práctica repasaremos el concepto de autovalor y autovector de un endomorfismo y revisaremos métodos numérico para calcularlos.\n",
    "\n",
    "Sea $f:\\KK^n\\to \\KK^n$ una aplicación lineal definida por la matriz cuadrada $A$. Diremos que $\\lambda\\in\\KK$ es un *valor propio* o *autovalor* de $f$ si existe un vector no nulo $v\\in\\KK^n\\setminus \\{0\\}$ tal que $f(v)=Av=\\lambda v$. Dicho vector $v$ se denomina *vector propio* o *autovector*.\n",
    "\n",
    "`Sagemath` permite calcular los valores y vectores propios de una matriz cuadrada usando `eigenvalues` y `eigenvectors_right` directamente sobre la matriz $A$."
   ]
  },
  {
   "cell_type": "code",
   "execution_count": 1,
   "id": "97c87d1c-0cfa-4c52-a016-4645ed3256ee",
   "metadata": {},
   "outputs": [],
   "source": [
    "A=matrix(QQ,3,[6,5,2,8,9,8,-5,-5,-1])"
   ]
  },
  {
   "cell_type": "code",
   "execution_count": 2,
   "id": "bd1edf73-fcf2-41ca-80ea-79f2e42c5c6c",
   "metadata": {},
   "outputs": [
    {
     "data": {
      "text/plain": [
       "[9, 4, 1]"
      ]
     },
     "execution_count": 2,
     "metadata": {},
     "output_type": "execute_result"
    }
   ],
   "source": [
    "A.eigenvalues()"
   ]
  },
  {
   "cell_type": "code",
   "execution_count": 3,
   "id": "3717e833-d9a4-4e1a-b1a1-f0845ed2f236",
   "metadata": {},
   "outputs": [
    {
     "data": {
      "text/html": [
       "<html>\\[\\newcommand{\\Bold}[1]{\\mathbf{#1}}\\left[\\left(9, \\left[\\left(1,\\,1,\\,-1\\right)\\right], 1\\right), \\left(4, \\left[\\left(1,\\,0,\\,-1\\right)\\right], 1\\right), \\left(1, \\left[\\left(1,\\,-1,\\,0\\right)\\right], 1\\right)\\right]\\]</html>"
      ],
      "text/latex": [
       "$$\\newcommand{\\Bold}[1]{\\mathbf{#1}}\\left[\\left(9, \\left[\\left(1,\\,1,\\,-1\\right)\\right], 1\\right), \\left(4, \\left[\\left(1,\\,0,\\,-1\\right)\\right], 1\\right), \\left(1, \\left[\\left(1,\\,-1,\\,0\\right)\\right], 1\\right)\\right]$$"
      ],
      "text/plain": [
       "[(9,\n",
       "  [\n",
       "  (1, 1, -1)\n",
       "  ],\n",
       "  1),\n",
       " (4,\n",
       "  [\n",
       "  (1, 0, -1)\n",
       "  ],\n",
       "  1),\n",
       " (1,\n",
       "  [\n",
       "  (1, -1, 0)\n",
       "  ],\n",
       "  1)]"
      ]
     },
     "metadata": {},
     "output_type": "display_data"
    }
   ],
   "source": [
    "show(A.eigenvectors_right())"
   ]
  },
  {
   "cell_type": "markdown",
   "id": "bf2d3b6b-196a-45e8-b541-2db3d11b7db7",
   "metadata": {},
   "source": [
    "Comprueba con la ayuda `A.eigenvectors_right?` el significado del resultado."
   ]
  },
  {
   "cell_type": "code",
   "execution_count": 4,
   "id": "2baad7dd-01fc-49fe-b1f6-d14df2db095f",
   "metadata": {},
   "outputs": [
    {
     "data": {
      "text/plain": [
       "\u001b[0;31mDocstring:\u001b[0m     \n",
       "   Compute the right eigenvectors of a matrix.\n",
       "\n",
       "   INPUT:\n",
       "\n",
       "   * \"other\" -- a square matrix B (default: \"None\") in a generalized\n",
       "     eigenvalue problem; if \"None\", an ordinary eigenvalue problem is\n",
       "     solved (currently supported only if the base ring of \"self\" is\n",
       "     \"RDF\" or \"CDF\")\n",
       "\n",
       "   * \"extend\" -- boolean (default: \"True\")\n",
       "\n",
       "   OUTPUT:\n",
       "\n",
       "   For each distinct eigenvalue, returns a list of the form (e,V,n)\n",
       "   where e is the eigenvalue, V is a list of eigenvectors forming a\n",
       "   basis for the corresponding right eigenspace, and n is the\n",
       "   algebraic multiplicity of the eigenvalue. If \"extend = True\" (the\n",
       "   default), this will return eigenspaces over the algebraic closure\n",
       "   of the base field where this is implemented; otherwise it will\n",
       "   restrict to eigenvalues in the base field.\n",
       "\n",
       "   EXAMPLES:\n",
       "\n",
       "   We compute the right eigenvectors of a 3 x 3 rational matrix.\n",
       "\n",
       "      sage: A = matrix(QQ,3,3,range(9)); A\n",
       "      [0 1 2]\n",
       "      [3 4 5]\n",
       "      [6 7 8]\n",
       "      sage: es = A.eigenvectors_right(); es\n",
       "      [(0, [\n",
       "      (1, -2, 1)\n",
       "      ], 1),\n",
       "      (-1.348469228349535?, [(1, 0.1303061543300932?, -0.7393876913398137?)], 1),\n",
       "      (13.34846922834954?, [(1, 3.069693845669907?, 5.139387691339814?)], 1)]\n",
       "      sage: A.eigenvectors_right(extend=False)\n",
       "      [(0, [\n",
       "      (1, -2, 1)\n",
       "      ], 1)]\n",
       "      sage: eval, [evec], mult = es[0]\n",
       "      sage: delta = eval*evec - A*evec\n",
       "      sage: abs(abs(delta)) < 1e-10\n",
       "      True\n",
       "\u001b[0;31mInit docstring:\u001b[0m Initialize self.  See help(type(self)) for accurate signature.\n",
       "\u001b[0;31mFile:\u001b[0m           /usr/local/sage-9.4/local/lib/python3.9/site-packages/sage/matrix/matrix2.pyx\n",
       "\u001b[0;31mType:\u001b[0m           builtin_function_or_method\n"
      ]
     },
     "metadata": {},
     "output_type": "display_data"
    }
   ],
   "source": [
    "A.eigenvectors_right?"
   ]
  },
  {
   "cell_type": "code",
   "execution_count": null,
   "id": "5e378251-31b3-4ba0-b7e7-e80874cd5327",
   "metadata": {},
   "outputs": [],
   "source": []
  },
  {
   "cell_type": "markdown",
   "id": "a82d6165-0b61-47c1-b53c-7f60c7b58554",
   "metadata": {},
   "source": [
    "Cuando una matriz cuadrada $A\\in \\textrm{Mat}_n(\\KK)$ se puede descomponer como $A=PDP^{-1}$ donde $P\\in GL_n(\\KK)$ es una matriz regular ($\\det(P)\\neq 0$) y $D\\in \\textrm{Mat}_n(\\KK)$ es una matriz diagonal ($d_{ij}=0$ si $i\\neq j$), entonces decimos que $A$ es *diagonalizable*.\n",
    "\n",
    "Los valores en la diagonal de $D$ son precisamente los valores propios de $A$. `Sagemath` permite calcular $P$ y $D$ en caso de que la matriz sea diagonalizable, usando `diagonalization`."
   ]
  },
  {
   "cell_type": "code",
   "execution_count": 5,
   "id": "ac2dcce2-ebd8-4e02-aed1-bde8e6511b78",
   "metadata": {},
   "outputs": [],
   "source": [
    "D,P=A.diagonalization()"
   ]
  },
  {
   "cell_type": "code",
   "execution_count": 6,
   "id": "6c3dddf0-0fc8-4465-a6cf-5bb77cfd1916",
   "metadata": {},
   "outputs": [
    {
     "data": {
      "text/plain": [
       "True"
      ]
     },
     "execution_count": 6,
     "metadata": {},
     "output_type": "execute_result"
    }
   ],
   "source": [
    "A==P*D/P"
   ]
  },
  {
   "cell_type": "code",
   "execution_count": null,
   "id": "159198af-b2ff-4d76-9c8f-1953c0e7b26b",
   "metadata": {},
   "outputs": [],
   "source": []
  },
  {
   "cell_type": "markdown",
   "id": "cd292485-d140-4f67-a65e-85b15926d896",
   "metadata": {},
   "source": [
    "Diagonalizar una matriz permite resolver problemas como el siguiente: \n",
    "\n",
    "### Ejercicio 1. \n",
    "Dada la matriz $A=\\left(\\begin{array}{rrr}6 & 5 & 2 \\\\8 & 9 & 8 \\\\-5 & -5 & -1\\end{array}\\right)$ del apartado anterior. Encuentra una matriz $B$ tal que $B^2=A$."
   ]
  },
  {
   "cell_type": "code",
   "execution_count": 7,
   "id": "ba7d0ce8-0ae8-43a9-8e3d-59fc19fcd7d7",
   "metadata": {},
   "outputs": [],
   "source": [
    "A=matrix(QQ, 3,[6,5,2,8,9,8,-5,-5,-1])"
   ]
  },
  {
   "cell_type": "code",
   "execution_count": 8,
   "id": "12951b3c-4c76-4786-a9f7-437c23ae7bc1",
   "metadata": {},
   "outputs": [],
   "source": [
    "D,P=A.diagonalization()"
   ]
  },
  {
   "cell_type": "code",
   "execution_count": 9,
   "id": "0c0fd5cb-3ad2-4af9-88f2-d2dcbd3dac1b",
   "metadata": {},
   "outputs": [
    {
     "data": {
      "text/plain": [
       "[9 0 0]\n",
       "[0 4 0]\n",
       "[0 0 1]"
      ]
     },
     "execution_count": 9,
     "metadata": {},
     "output_type": "execute_result"
    }
   ],
   "source": [
    "D"
   ]
  },
  {
   "cell_type": "code",
   "execution_count": 10,
   "id": "27ae807e-380c-46af-a057-16440343d1d3",
   "metadata": {},
   "outputs": [
    {
     "data": {
      "text/plain": [
       "[ 1  1  1]\n",
       "[ 1  0 -1]\n",
       "[-1 -1  0]"
      ]
     },
     "execution_count": 10,
     "metadata": {},
     "output_type": "execute_result"
    }
   ],
   "source": [
    "P"
   ]
  },
  {
   "cell_type": "code",
   "execution_count": null,
   "id": "0e4b0450-a1e1-4e02-813c-56a2f992b71c",
   "metadata": {},
   "outputs": [],
   "source": []
  },
  {
   "cell_type": "markdown",
   "id": "b5a5e7df-8297-4e9e-a3bb-75bac8590f3b",
   "metadata": {},
   "source": [
    "### Ejercicio 2\n",
    "\n",
    "Veamos algunos métodos numéricos para el cálculo aproximado de los valores propios de una matriz.\n",
    "\n",
    "Supongamos en primer lugar que la matriz (real o compleja) $A$ es diagonalizable y que tiene un valor propio $t_1$ de multiplicidad 1 tal que $\\lvert t_1\\rvert > \\lvert t_i\\rvert$ para el resto de valores propios $t_i$. A este valor propio se le denomina como *dominante*.\n",
    "\n",
    "En teoría se ha explicado que en este caso, el método iterativo converge a un vector propio. Partamos de un vector cualquiera $v\\in \\KK^n$ ($\\KK=\\RR$ o $\\CC$), entonces $A^mv$, $m\\gg 1$, converge a un vector propio asociado al valor propio $t_1$. Para que el resultado $A^mv$ no aumente excesivamente, a cada paso se *normaliza* el vector resultante dividiéndolo por su coordenada mayor. \n",
    "\n",
    "1. Escribe un programa `vp_iterar(A,m,v=random_vector(A.dimensions()[0]))` que calcule este proceso de multiplicar por $A$ un vector $v$ o bien dado o bien aleatorio y `normalizar` a cada paso hasta llegar al paso `m`. El resultado debe ser el vector propio y el valor propio. \n",
    "2. Aplícalo a la matriz del apartado anterior. \n",
    "3. Haz algunas pruebas aleatorias y compara el resultado con el de `eigenvector_right()` (no uses el cuerpo `RR`, usa `RDF`). \n",
    "4. Utiliza la nueva matriz $A_1=t_1 Id-A$ para calcular otro valor propio $t_2$ de $A$ y un vector propio. Observa que los autovalores de $A_1$ son $t_1-t_i$ donde $t_i$ son los valores propios de $A$."
   ]
  },
  {
   "cell_type": "code",
   "execution_count": null,
   "id": "5c477a49-6a39-4014-8fe3-b0fdda81b851",
   "metadata": {},
   "outputs": [],
   "source": []
  },
  {
   "cell_type": "code",
   "execution_count": null,
   "id": "3e52b97d-08f5-4699-8b24-21db7437aa3a",
   "metadata": {},
   "outputs": [],
   "source": []
  },
  {
   "cell_type": "markdown",
   "id": "2f6ffdc4-0704-46ed-9dfc-32423cd75f0f",
   "metadata": {},
   "source": [
    "Resuelve los siguientes ejercicios de las hojas de problemas: 75, 85, 86, 87."
   ]
  },
  {
   "cell_type": "markdown",
   "id": "b8af12dd-3a4e-4b4e-98e3-c30e75412964",
   "metadata": {},
   "source": [
    "----\n",
    "#### **Ejercicio 75**.\n",
    "Siendo $A =\\left(\\begin{matrix} 1 & 0 & -3\\\\ -2 & 2 & -1\\\\ 0 & 0 & 3\\end{matrix}\\right)$, encuentra una matriz $B$ tal que $B^2 = A$."
   ]
  },
  {
   "cell_type": "code",
   "execution_count": 25,
   "id": "9ce36a78-3bac-42f9-93a0-605aa0102007",
   "metadata": {},
   "outputs": [],
   "source": [
    "#declaro la matriz\n",
    "A = matrix(QQ, [[1, 0, -3], [-2, 2, -1], [0, 0, 3]])"
   ]
  },
  {
   "cell_type": "code",
   "execution_count": 26,
   "id": "d1df75a4-1b69-4848-923a-269d19a80d21",
   "metadata": {},
   "outputs": [],
   "source": [
    "#diagonalizo en 2 matrices d y p\n",
    "D,P=A.diagonalization()"
   ]
  },
  {
   "cell_type": "code",
   "execution_count": 27,
   "id": "7b5f72e8-6635-427a-bacc-34e3c7f152c6",
   "metadata": {},
   "outputs": [
    {
     "data": {
      "text/html": [
       "<html>\\[\\newcommand{\\Bold}[1]{\\mathbf{#1}}\\left(\\begin{array}{rrr}\n",
       "3 & 0 & 0 \\\\\n",
       "0 & 2 & 0 \\\\\n",
       "0 & 0 & 1\n",
       "\\end{array}\\right) \\left(\\begin{array}{rrr}\n",
       "1 & 0 & 1 \\\\\n",
       "-\\frac{4}{3} & 1 & 2 \\\\\n",
       "-\\frac{2}{3} & 0 & 0\n",
       "\\end{array}\\right)\\]</html>"
      ],
      "text/latex": [
       "$$\\newcommand{\\Bold}[1]{\\mathbf{#1}}\\left(\\begin{array}{rrr}\n",
       "3 & 0 & 0 \\\\\n",
       "0 & 2 & 0 \\\\\n",
       "0 & 0 & 1\n",
       "\\end{array}\\right) \\left(\\begin{array}{rrr}\n",
       "1 & 0 & 1 \\\\\n",
       "-\\frac{4}{3} & 1 & 2 \\\\\n",
       "-\\frac{2}{3} & 0 & 0\n",
       "\\end{array}\\right)$$"
      ],
      "text/plain": [
       "[3 0 0]\n",
       "[0 2 0]\n",
       "[0 0 1] [   1    0    1]\n",
       "[-4/3    1    2]\n",
       "[-2/3    0    0]"
      ]
     },
     "metadata": {},
     "output_type": "display_data"
    }
   ],
   "source": [
    "show(D, P)"
   ]
  },
  {
   "cell_type": "code",
   "execution_count": 28,
   "id": "eefa5374-3380-433b-a67e-4ed0b1f22245",
   "metadata": {},
   "outputs": [],
   "source": [
    "#ahora que la tengo diagonalizada puedo operar\n",
    "R= matrix(RR, [[sqrt(3), 0, 0], [0, sqrt(2), 0], [0, 0, 1]])"
   ]
  },
  {
   "cell_type": "code",
   "execution_count": 29,
   "id": "f21ef2f8-1284-4a09-8287-ed292a85a2c0",
   "metadata": {},
   "outputs": [
    {
     "data": {
      "text/html": [
       "<html>\\[\\newcommand{\\Bold}[1]{\\mathbf{#1}}\\left(\\begin{array}{rrr}\n",
       "1.73205080756888 & 0.000000000000000 & 0.000000000000000 \\\\\n",
       "0.000000000000000 & 1.41421356237310 & 0.000000000000000 \\\\\n",
       "0.000000000000000 & 0.000000000000000 & 1.00000000000000\n",
       "\\end{array}\\right)\\]</html>"
      ],
      "text/latex": [
       "$$\\newcommand{\\Bold}[1]{\\mathbf{#1}}\\left(\\begin{array}{rrr}\n",
       "1.73205080756888 & 0.000000000000000 & 0.000000000000000 \\\\\n",
       "0.000000000000000 & 1.41421356237310 & 0.000000000000000 \\\\\n",
       "0.000000000000000 & 0.000000000000000 & 1.00000000000000\n",
       "\\end{array}\\right)$$"
      ],
      "text/plain": [
       "[ 1.73205080756888 0.000000000000000 0.000000000000000]\n",
       "[0.000000000000000  1.41421356237310 0.000000000000000]\n",
       "[0.000000000000000 0.000000000000000  1.00000000000000]"
      ]
     },
     "metadata": {},
     "output_type": "display_data"
    }
   ],
   "source": [
    "show(R)"
   ]
  },
  {
   "cell_type": "code",
   "execution_count": 111,
   "id": "697b633a-4330-46b3-b179-8b74233b4c31",
   "metadata": {},
   "outputs": [
    {
     "ename": "NameError",
     "evalue": "name 'P' is not defined",
     "output_type": "error",
     "traceback": [
      "\u001b[0;31m---------------------------------------------------------------------------\u001b[0m",
      "\u001b[0;31mNameError\u001b[0m                                 Traceback (most recent call last)",
      "\u001b[0;32m/usr/local/sage-9.4/local/lib/python3.9/site-packages/sage/all_cmdline.py\u001b[0m in \u001b[0;36m<module>\u001b[0;34m\u001b[0m\n\u001b[1;32m      1\u001b[0m \u001b[0;31m#invierto\u001b[0m\u001b[0;34m\u001b[0m\u001b[0;34m\u001b[0m\u001b[0;34m\u001b[0m\u001b[0m\n\u001b[0;32m----> 2\u001b[0;31m \u001b[0mQ\u001b[0m \u001b[0;34m=\u001b[0m \u001b[0mP\u001b[0m\u001b[0;34m.\u001b[0m\u001b[0minverse\u001b[0m\u001b[0;34m(\u001b[0m\u001b[0;34m)\u001b[0m\u001b[0;34m\u001b[0m\u001b[0;34m\u001b[0m\u001b[0m\n\u001b[0m\u001b[1;32m      3\u001b[0m \u001b[0mB\u001b[0m \u001b[0;34m=\u001b[0m \u001b[0mP\u001b[0m\u001b[0;34m*\u001b[0m\u001b[0mR\u001b[0m\u001b[0;34m*\u001b[0m\u001b[0mQ\u001b[0m\u001b[0;34m\u001b[0m\u001b[0;34m\u001b[0m\u001b[0m\n",
      "\u001b[0;31mNameError\u001b[0m: name 'P' is not defined"
     ]
    }
   ],
   "source": [
    "#invierto\n",
    "Q = P.inverse()\n",
    "B = P*R*Q"
   ]
  },
  {
   "cell_type": "code",
   "execution_count": 110,
   "id": "5f6d4220-0768-44dc-923b-b319e1daebf3",
   "metadata": {},
   "outputs": [
    {
     "ename": "NameError",
     "evalue": "name 'B' is not defined",
     "output_type": "error",
     "traceback": [
      "\u001b[0;31m---------------------------------------------------------------------------\u001b[0m",
      "\u001b[0;31mNameError\u001b[0m                                 Traceback (most recent call last)",
      "\u001b[0;32m/usr/local/sage-9.4/local/lib/python3.9/site-packages/sage/all_cmdline.py\u001b[0m in \u001b[0;36m<module>\u001b[0;34m\u001b[0m\n\u001b[0;32m----> 1\u001b[0;31m \u001b[0mB\u001b[0m\u001b[0;34m\u001b[0m\u001b[0;34m\u001b[0m\u001b[0m\n\u001b[0m",
      "\u001b[0;31mNameError\u001b[0m: name 'B' is not defined"
     ]
    }
   ],
   "source": [
    "B"
   ]
  },
  {
   "cell_type": "markdown",
   "id": "f43e359e-3171-4693-af2f-2c774f51e5bb",
   "metadata": {},
   "source": [
    "----\n",
    "#### **Ejercicio 85**. \n",
    "Mediante el procedimiento de cálculo aproximado encuentra el valor y vector propio dominantes para cada una de las matrices \n",
    "$A = \\left(\\begin{matrix} 4& 1& 3\\\\0& 2& 0\\\\1& 1& 2\\end{matrix}\\right)$, \n",
    "$B = \\left(\\begin{matrix} 12& 6& -6\\\\2& 0& -2\\\\ -6& 6& 12\\end{matrix}\\right)$.\n",
    "Toma como vector inicial el $(1, 0, 0)$ y aplica el método hasta la precisión de dos cifras decimales."
   ]
  },
  {
   "cell_type": "code",
   "execution_count": null,
   "id": "2e8f8dc5-05bd-4d2f-b159-8fb85097b515",
   "metadata": {},
   "outputs": [],
   "source": []
  },
  {
   "cell_type": "code",
   "execution_count": null,
   "id": "18c9ebbf-1f0b-4b1b-a83c-d89f0df61df0",
   "metadata": {},
   "outputs": [],
   "source": []
  },
  {
   "cell_type": "markdown",
   "id": "5ff92619-dc23-4b0f-8bdc-98a3a2f8883b",
   "metadata": {},
   "source": [
    "----\n",
    "#### **Ejercicio 86**. \n",
    "Calcula un segundo valor propio de las matrices del ejercicio 85 por el método de las iteraciones."
   ]
  },
  {
   "cell_type": "code",
   "execution_count": null,
   "id": "7299b7aa-53d4-48cb-9531-506f867e60dd",
   "metadata": {},
   "outputs": [],
   "source": []
  },
  {
   "cell_type": "code",
   "execution_count": null,
   "id": "d559e8c5-574a-4532-bfeb-3859e5424fa4",
   "metadata": {},
   "outputs": [],
   "source": []
  },
  {
   "cell_type": "markdown",
   "id": "bd45ee5c-518f-48b5-8f19-5dc0951a511f",
   "metadata": {},
   "source": [
    "----\n",
    "#### **Ejercicio 87**.\n",
    "En las siguientes matrices el procedimiento de aproximación por iteración no converge. Compruébalo con el vector inicial $(1, 1, 1)$. Calcula los valores y vectores propios exactos y explica qué es lo que ocurre.\n",
    "$A = \\left(\\begin{matrix} -5& 1& 7\\\\ 0& 4& 0\\\\ 7& 1& -5\\end{matrix}\\right)$,\n",
    "$B = \\left(\\begin{matrix} 1& -1& 0\\\\ 1& 1& 0\\\\1& -1& 11\\end{matrix}\\right)$."
   ]
  },
  {
   "cell_type": "code",
   "execution_count": null,
   "id": "9911f1fb-c941-4b19-afbf-828f38dd773f",
   "metadata": {},
   "outputs": [],
   "source": []
  },
  {
   "cell_type": "code",
   "execution_count": null,
   "id": "631963e3-09b7-4ece-9656-53b4a0b4acf3",
   "metadata": {},
   "outputs": [],
   "source": []
  },
  {
   "cell_type": "markdown",
   "id": "6a90ccc0-d8bf-48a2-aea5-ccea0606cc27",
   "metadata": {},
   "source": [
    "### **\"Solución\" de sistemas lineales incompatibles. Método de los mínimos cuadrados.**"
   ]
  },
  {
   "cell_type": "markdown",
   "id": "c2239bd8-675d-471f-aab0-bbea6e22801e",
   "metadata": {},
   "source": [
    "Recordamos el siguiente resultado estudiado en teoría.\n",
    "\n",
    "**Proposición.**\n",
    "Sea $AX = B$ un sistema de ecuaciones lineales en $\\RR$ con $A$ una matriz $m \\times n$ y $B$ un vector columna de tamaño $n$.\n",
    "\n",
    "1. El sistema $A^tAX = A^tB$ siempre tiene solución.\n",
    "1. Si $AX = B$ es compatible, las soluciones de ambos sistemas coinciden.\n",
    "1. Si $AX = B$ no es compatible, cualquier solución $X_0$ de $A^tAX = A^tB$ verifica que \n",
    "$$\\lVert AX_0 - B\\rVert \\leq \\lVert AX - B\\rVert$$\n",
    "para cualquier $X$, es decir, $X_0$ es la solución más cercana posible del sistema inicial."
   ]
  },
  {
   "cell_type": "code",
   "execution_count": null,
   "id": "c8cdd146-18b6-4661-ae4a-88f64a876da6",
   "metadata": {},
   "outputs": [],
   "source": []
  },
  {
   "cell_type": "markdown",
   "id": "aa3d2b61-d6e0-4c28-9dc3-3318935a9323",
   "metadata": {},
   "source": [
    "#### Ejercicio 3.\n",
    "\n",
    "1. Comprueba que los puntos $p_1=(1, 5)$, $p_2=\\left(\\frac{4}{7}, \\frac{26}{7}\\right)$, $p_3=\\left(\\frac{11}{17}, \\frac{67}{17}\\right)$ de $\\RR^2$ están alineados. Utiliza el resultado anterior para encontrar una recta $y=mx+b$ que pasa por ellos.\n",
    "\n",
    "1. Comprueba que los puntos $q_1=(3, 7)$, $q_2=\\left(2, 1\\right)$, $q_3=\\left(5,9\\right)$ de $\\RR^2$ no están alineados. Utiliza el resultado anterior para encontrar una recta $y=mx+b$ que más se aproxime a estos.\n",
    "\n",
    "1. Dibuja la lista de puntos de los apartados anteriores usando `list_plot(lista)` y la recta usando `implicit_plot(y-mx-b,(x,x_0,x_1),(y,y_0,y_1))` donde $x_0, x_1, y_0, y_1$ son los intervalos donde varían $x$ e $y$."
   ]
  },
  {
   "cell_type": "code",
   "execution_count": null,
   "id": "1ab0a93a-fcf1-44ea-952a-06895b5773c9",
   "metadata": {},
   "outputs": [],
   "source": [
    "P = [vector([1, 5]), vector([4, 26])/7, vector([11, 67])/17]\n",
    "Q = [vector([3, 7]), vector([2, 1]), vector([5,9])]"
   ]
  },
  {
   "cell_type": "code",
   "execution_count": null,
   "id": "1a064012-c998-44d1-9a08-0b60ee877f5a",
   "metadata": {},
   "outputs": [],
   "source": []
  },
  {
   "cell_type": "code",
   "execution_count": null,
   "id": "89d15feb-cef4-4e54-baba-4c7d49d3c53d",
   "metadata": {},
   "outputs": [],
   "source": []
  },
  {
   "cell_type": "markdown",
   "id": "8945fefb-7cb5-4100-b62f-fca45ae21ced",
   "metadata": {},
   "source": [
    "Resuelve los siguientes ejercicios de la hoja de problemas:"
   ]
  },
  {
   "cell_type": "markdown",
   "id": "2482a4c1-76cd-48ed-80de-48a731a45173",
   "metadata": {},
   "source": [
    "----\n",
    "#### **Ejercicio 90**.\n",
    "Halla, por el método de mínimos cuadrados, la recta del plano de ecuación $y = mx+b$\n",
    "“más próxima” a los puntos $(-1, -1), (2/3, 1/3), (0, 1/3)$. Dibuja los puntos y la recta."
   ]
  },
  {
   "cell_type": "code",
   "execution_count": 78,
   "id": "14a1daee-0018-4f9a-b784-f915db1ad059",
   "metadata": {},
   "outputs": [
    {
     "data": {
      "image/png": "[encoded data removed]",
      "text/plain": [
       "Graphics object consisting of 1 graphics primitive"
      ]
     },
     "execution_count": 78,
     "metadata": {},
     "output_type": "execute_result"
    }
   ],
   "source": [
    "G = [vector([-1, -1]), vector([2/3, 1/3]), vector([0, 1/3])]\n",
    "list_plot(G)\n",
    "#tendremos que aproximar porque no estan alineados\n",
    "#por tanto sumo las coordenadas"
   ]
  },
  {
   "cell_type": "code",
   "execution_count": 105,
   "id": "0ee0c64b-dfc2-4ac8-a42b-cf6b037beeca",
   "metadata": {},
   "outputs": [],
   "source": [
    "X = [-1, 2/3, 0] \n",
    "Y = [-1, 1/3, 1/3] \n",
    "XY = [1, 2/9, 0] \n",
    "X2 = [1, 4/9, 0]"
   ]
  },
  {
   "cell_type": "code",
   "execution_count": 106,
   "id": "a20f25f7-4582-4fea-9115-085100c3afc1",
   "metadata": {},
   "outputs": [],
   "source": [
    "Suma1 = 0\n",
    "for i in range(0, 3):\n",
    "    Suma1 = Suma1 + X[i]\n",
    "Suma2 = 0\n",
    "for i in range(0, 3):\n",
    "    Suma2 = Suma2 + Y[i]\n",
    "SumaXY = 0\n",
    "for i in range(0, 3):\n",
    "    SumaXY = SumaXY + XY[i]\n",
    "SumaX2 = 0\n",
    "for i in range(0, 3):\n",
    "    SumaX2 = SumaX2 + X2[i]"
   ]
  },
  {
   "cell_type": "code",
   "execution_count": 107,
   "id": "1b8f8c90-09fd-4683-a08f-825d3448a07f",
   "metadata": {},
   "outputs": [
    {
     "data": {
      "text/plain": [
       "16/13"
      ]
     },
     "execution_count": 107,
     "metadata": {},
     "output_type": "execute_result"
    }
   ],
   "source": [
    "#calculo la pendiente\n",
    "Pendiente = (SumaXY-(Suma1 * Suma2)/3)/(SumaX2-(SumaX2)/3)\n",
    "Pendiente"
   ]
  },
  {
   "cell_type": "code",
   "execution_count": 108,
   "id": "2c9df98d-5150-4e52-a233-79b3acb1ccd9",
   "metadata": {},
   "outputs": [
    {
     "data": {
      "text/html": [
       "<html>\\[\\newcommand{\\Bold}[1]{\\mathbf{#1}}\\frac{1}{39}\\]</html>"
      ],
      "text/latex": [
       "$$\\newcommand{\\Bold}[1]{\\mathbf{#1}}\\frac{1}{39}$$"
      ],
      "text/plain": [
       "1/39"
      ]
     },
     "metadata": {},
     "output_type": "display_data"
    }
   ],
   "source": [
    "#ahora hago la intersecccion\n",
    "Media1 = Suma1/3\n",
    "Media2 = Suma2/3\n",
    "b = Media2-Pendiente*Media1\n",
    "show(b)"
   ]
  },
  {
   "cell_type": "code",
   "execution_count": 109,
   "id": "a4d217fd-34d6-409c-b3da-46ba664a55b7",
   "metadata": {},
   "outputs": [
    {
     "data": {
      "image/png": "[encoded data removed]",
      "text/plain": [
       "Graphics object consisting of 2 graphics primitives"
      ]
     },
     "execution_count": 109,
     "metadata": {},
     "output_type": "execute_result"
    }
   ],
   "source": [
    "f(x) = Pendiente*x+b\n",
    "plot(f(x))+list_plot(G)"
   ]
  },
  {
   "cell_type": "markdown",
   "id": "210223a1-2b5a-49a4-b793-e4b9c93e18a1",
   "metadata": {},
   "source": [
    "----\n",
    "#### **Ejercicio 91**.\n",
    "Encuentra la parábola $y=a+bx+cx^2$ que mejor aproxime los puntos $(1, 0), (2, -1), (3, 0), (4, 2)$. Dibuja "
   ]
  },
  {
   "cell_type": "code",
   "execution_count": null,
   "id": "72d526ae-5e79-483e-b6bf-5abc34b77648",
   "metadata": {},
   "outputs": [],
   "source": []
  },
  {
   "cell_type": "code",
   "execution_count": null,
   "id": "fb13d0e9-c5ea-4330-814f-e98278e68791",
   "metadata": {},
   "outputs": [],
   "source": []
  }
 ],
 "metadata": {
  "kernelspec": {
   "display_name": "SageMath 9.4",
   "language": "sage",
   "name": "sagemath"
  },
  "language_info": {
   "codemirror_mode": {
    "name": "ipython",
    "version": 3
   },
   "file_extension": ".py",
   "mimetype": "text/x-python",
   "name": "python",
   "nbconvert_exporter": "python",
   "pygments_lexer": "ipython3",
   "version": "3.9.5"
  }
 },
 "nbformat": 4,
 "nbformat_minor": 5
}
