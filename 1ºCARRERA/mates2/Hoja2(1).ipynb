{
 "cells": [
  {
   "cell_type": "markdown",
   "metadata": {
    "tags": []
   },
   "source": [
    "$$\n",
    "\\def\\CC{\\bf C}\n",
    "\\def\\QQ{\\bf Q}\n",
    "\\def\\RR{\\bf R}\n",
    "\\def\\ZZ{\\bf Z}\n",
    "\\def\\NN{\\bf N}\n",
    "$$\n",
    "\n",
    "# Práctica 2\n",
    "\n",
    "El objetivo principal de esta práctica es continuar con el repaso de los conceptos sobre cuerpos finitos definidos a partir de anillos de polinomios que se han visto en clase de teoría, así como ver las ventajas que ofrece `Sagemath` para trabajar con este tipo de elementos. Para ello combinaremos ejercicios y problemas que habrá que resolver a mano, con otros en los que será necesario el uso del ordenador."
   ]
  },
  {
   "cell_type": "markdown",
   "metadata": {},
   "source": [
    "Recordamos de la práctica anterior lo siguiente:\n",
    "- El algoritmo de la división nos asegura que podemos dividir un polinomio $D\\in \\mathbb F[x]$ por otro no nulo $d\\in \\mathbb F[x]$ de manera que $D=dq+r$ donde $q,r\\in \\mathbb F[x]$ son únicos cumpliendo que $\\textrm{grado}(r)<\\textrm{grado}(d)$. Para obtener esta descomposición usamos `f.quo_rem(g)` en `Sagemath`. \n",
    "- El algoritmo de Euclides utiliza el Teorema de división para obtener el máximo común divisor `f.gcd(g)` de dos polinomios no nulos $f,g$. El comando `f.xgcd(g)` permite encontrar dos polinomios $p,q$ tales que $p f+ q g=d$ (identidad de Bézout).\n",
    "- Un polinomio irreducible $f$ de grado $n$ permite calcular la aritmética modular de $\\mathbb F[x]$ respecto de $f$ donde $g_1=g_2$ si el resto de la divisón por $f$ coincide, es decir $g_1=fq_1+r$ y $g_2=fq_2+r$. Las operaciones de suma y de producto cumplen las propiedades de cuerpo. A este resto le denominamos **resto módulo $f$**.\n",
    "- Si $f$ es un polinomio irreducible de grado $n$ y $\\mathbb F$ es finito de cardinal $p$, entonces, el cuerpo resultante tiene cardinal $p^n$ que corresponde a la cantidad de restos módulo $f$.\n",
    "\n",
    "\n",
    "Vamos a ver un ejemplo de tabla de suma y multiplicación. Primero recordamos varias maneras de introducir el cuerpo de dos elementos y el anillo de polinomios."
   ]
  },
  {
   "cell_type": "code",
   "execution_count": 1,
   "metadata": {},
   "outputs": [
    {
     "name": "stdout",
     "output_type": "stream",
     "text": [
      "True\n",
      "True\n"
     ]
    }
   ],
   "source": [
    "Z2=GF(2)\n",
    "print(Z2==FiniteField(2))\n",
    "R=Z2[x]\n",
    "R1.<x>=Z2[]\n",
    "print(R1==R)"
   ]
  },
  {
   "cell_type": "markdown",
   "metadata": {},
   "source": [
    "Originariamente la variable $x$ es una variable general de `Sagemath`. Con la celda anterior, a partir de ahora es la variable del anillo de polinomios\n",
    "con coeficientes en el cuerpo $\\mathbb{Z}_2$ de dos elementos. Si definiéramos otro anillo con esa variable podría cambiar de naturaleza. Por eso si queremos \n",
    "asegurarnos de qué $x$ tomamos lo podemos hacer como en la celda siguiente."
   ]
  },
  {
   "cell_type": "code",
   "execution_count": 2,
   "metadata": {},
   "outputs": [
    {
     "data": {
      "text/plain": [
       "True"
      ]
     },
     "execution_count": 2,
     "metadata": {},
     "output_type": "execute_result"
    }
   ],
   "source": [
    "xs=vector([x^i for i in range(3)])\n",
    "xs==vector([R(x)^i for i in range(3)])"
   ]
  },
  {
   "cell_type": "markdown",
   "metadata": {},
   "source": [
    "El vector anterior nos permite dar la lista de todos los polinomios de grado menor o igual que $2$, o todos los de grado exactamente $3$."
   ]
  },
  {
   "cell_type": "code",
   "execution_count": null,
   "metadata": {},
   "outputs": [],
   "source": [
    "pols2=[vector(i)*xs for i in Z2^3]\n",
    "pols3a=[x^3+p for p in pols2]\n",
    "print(pols2)\n",
    "pols3a"
   ]
  },
  {
   "cell_type": "markdown",
   "metadata": {},
   "source": [
    "Vamos a considerar los restos por el polinomio irreducible $f=x^2+x+1$. Son los polinomios de grado menor o igual que 1."
   ]
  },
  {
   "cell_type": "code",
   "execution_count": 3,
   "metadata": {},
   "outputs": [
    {
     "data": {
      "text/plain": [
       "[0, 1, x, x + 1]"
      ]
     },
     "execution_count": 3,
     "metadata": {},
     "output_type": "execute_result"
    }
   ],
   "source": [
    "f=R(x^2+x+1)\n",
    "xs=vector([R(x^i) for i in range(2)])\n",
    "restos=[vector(i)*xs for i in Z2^2]\n",
    "restos"
   ]
  },
  {
   "cell_type": "markdown",
   "metadata": {},
   "source": [
    "Por fin, las tablas prometidas."
   ]
  },
  {
   "cell_type": "code",
   "execution_count": 4,
   "metadata": {},
   "outputs": [
    {
     "data": {
      "text/html": [
       "<div class=\"notruncate\">\n",
       "<table  class=\"table_form\">\n",
       "<tbody>\n",
       "<tr class =\"row-a\">\n",
       "<td style=\"text-align:left\">+</td>\n",
       "<td style=\"text-align:left\">\\(0\\)</td>\n",
       "<td style=\"text-align:left\">\\(1\\)</td>\n",
       "<td style=\"text-align:left\">\\(x\\)</td>\n",
       "<td style=\"text-align:left\">\\(x + 1\\)</td>\n",
       "</tr>\n",
       "<tr class =\"row-b\">\n",
       "<td style=\"text-align:left\">\\(0\\)</td>\n",
       "<td style=\"text-align:left\">\\(0\\)</td>\n",
       "<td style=\"text-align:left\">\\(1\\)</td>\n",
       "<td style=\"text-align:left\">\\(x\\)</td>\n",
       "<td style=\"text-align:left\">\\(x + 1\\)</td>\n",
       "</tr>\n",
       "<tr class =\"row-a\">\n",
       "<td style=\"text-align:left\">\\(1\\)</td>\n",
       "<td style=\"text-align:left\">\\(1\\)</td>\n",
       "<td style=\"text-align:left\">\\(0\\)</td>\n",
       "<td style=\"text-align:left\">\\(x + 1\\)</td>\n",
       "<td style=\"text-align:left\">\\(x\\)</td>\n",
       "</tr>\n",
       "<tr class =\"row-b\">\n",
       "<td style=\"text-align:left\">\\(x\\)</td>\n",
       "<td style=\"text-align:left\">\\(x\\)</td>\n",
       "<td style=\"text-align:left\">\\(x + 1\\)</td>\n",
       "<td style=\"text-align:left\">\\(0\\)</td>\n",
       "<td style=\"text-align:left\">\\(1\\)</td>\n",
       "</tr>\n",
       "<tr class =\"row-a\">\n",
       "<td style=\"text-align:left\">\\(x + 1\\)</td>\n",
       "<td style=\"text-align:left\">\\(x + 1\\)</td>\n",
       "<td style=\"text-align:left\">\\(x\\)</td>\n",
       "<td style=\"text-align:left\">\\(1\\)</td>\n",
       "<td style=\"text-align:left\">\\(0\\)</td>\n",
       "</tr>\n",
       "</tbody>\n",
       "</table>\n",
       "</div>"
      ],
      "text/plain": [
       "  +       0       1       x       x + 1\n",
       "  0       0       1       x       x + 1\n",
       "  1       1       0       x + 1   x\n",
       "  x       x       x + 1   0       1\n",
       "  x + 1   x + 1   x       1       0"
      ]
     },
     "execution_count": 4,
     "metadata": {},
     "output_type": "execute_result"
    }
   ],
   "source": [
    "table([['+'] + restos]+[[a]+[a+b for b in restos] for a in restos])"
   ]
  },
  {
   "cell_type": "code",
   "execution_count": 5,
   "metadata": {},
   "outputs": [
    {
     "data": {
      "text/html": [
       "<div class=\"notruncate\">\n",
       "<table  class=\"table_form\">\n",
       "<tbody>\n",
       "<tr class =\"row-a\">\n",
       "<td style=\"text-align:left\">*</td>\n",
       "<td style=\"text-align:left\">\\(0\\)</td>\n",
       "<td style=\"text-align:left\">\\(1\\)</td>\n",
       "<td style=\"text-align:left\">\\(x\\)</td>\n",
       "<td style=\"text-align:left\">\\(x + 1\\)</td>\n",
       "</tr>\n",
       "<tr class =\"row-b\">\n",
       "<td style=\"text-align:left\">\\(0\\)</td>\n",
       "<td style=\"text-align:left\">\\(0\\)</td>\n",
       "<td style=\"text-align:left\">\\(0\\)</td>\n",
       "<td style=\"text-align:left\">\\(0\\)</td>\n",
       "<td style=\"text-align:left\">\\(0\\)</td>\n",
       "</tr>\n",
       "<tr class =\"row-a\">\n",
       "<td style=\"text-align:left\">\\(1\\)</td>\n",
       "<td style=\"text-align:left\">\\(0\\)</td>\n",
       "<td style=\"text-align:left\">\\(1\\)</td>\n",
       "<td style=\"text-align:left\">\\(x\\)</td>\n",
       "<td style=\"text-align:left\">\\(x + 1\\)</td>\n",
       "</tr>\n",
       "<tr class =\"row-b\">\n",
       "<td style=\"text-align:left\">\\(x\\)</td>\n",
       "<td style=\"text-align:left\">\\(0\\)</td>\n",
       "<td style=\"text-align:left\">\\(x\\)</td>\n",
       "<td style=\"text-align:left\">\\(x^{2}\\)</td>\n",
       "<td style=\"text-align:left\">\\(x^{2} + x\\)</td>\n",
       "</tr>\n",
       "<tr class =\"row-a\">\n",
       "<td style=\"text-align:left\">\\(x + 1\\)</td>\n",
       "<td style=\"text-align:left\">\\(0\\)</td>\n",
       "<td style=\"text-align:left\">\\(x + 1\\)</td>\n",
       "<td style=\"text-align:left\">\\(x^{2} + x\\)</td>\n",
       "<td style=\"text-align:left\">\\(x^{2} + 1\\)</td>\n",
       "</tr>\n",
       "</tbody>\n",
       "</table>\n",
       "</div>"
      ],
      "text/plain": [
       "  *       0   1       x         x + 1\n",
       "  0       0   0       0         0\n",
       "  1       0   1       x         x + 1\n",
       "  x       0   x       x^2       x^2 + x\n",
       "  x + 1   0   x + 1   x^2 + x   x^2 + 1"
      ]
     },
     "execution_count": 5,
     "metadata": {},
     "output_type": "execute_result"
    }
   ],
   "source": [
    "table([['*'] + restos]+[[a]+[a*b for b in restos] for a in restos])"
   ]
  },
  {
   "cell_type": "markdown",
   "metadata": {},
   "source": [
    "A continuación veremos que no es necesaria esta construcción para trabajar con `Sagemath`"
   ]
  },
  {
   "cell_type": "markdown",
   "metadata": {},
   "source": [
    "### Cuerpos finitos mediante polinomios irreducibles en `SAGEMATH`\n",
    "\n",
    "------------------------------------------------------------------------\n",
    "\n",
    "Introducimos aquí cómo trabajar con cuerpos de tamaño $2^n$, $n>1$. Recordemos que en clase habéis visto que se pueden identificar con los polinomios de $\\mathbb{Z}_2[x]$ de grado $<n$ una vez fijado un polinomio irreducible $P$ de grado $n$ en $\\mathbb{Z}_2[x]$. La suma del cuerpo es la suma de polinomios mientras que el producto se obtiene como el resto del producto de los polinomios al dividirlo por $P$.\n",
    "\n",
    "`Sagemath` soporta cálculos en los cuerpos finitos sin necesidad de definirlos e implementarlos a mano. Para ello, hay que elegir un nombre para el generador del cuerpo (que juega el papel de lo que antes hemos llamado $x$)."
   ]
  },
  {
   "cell_type": "code",
   "execution_count": 6,
   "metadata": {},
   "outputs": [
    {
     "data": {
      "text/plain": [
       "Finite Field in u of size 2^4"
      ]
     },
     "execution_count": 6,
     "metadata": {},
     "output_type": "execute_result"
    }
   ],
   "source": [
    "K.<u>=GF(16)\n",
    "K"
   ]
  },
  {
   "cell_type": "markdown",
   "metadata": {},
   "source": [
    "Veamos los elementos de $K$."
   ]
  },
  {
   "cell_type": "code",
   "execution_count": 56,
   "metadata": {},
   "outputs": [
    {
     "name": "stdout",
     "output_type": "stream",
     "text": [
      "[0, u, u^2, u + 1, u^2 + u, u^2 + u + 1, u^2 + 1, 1]\n"
     ]
    }
   ],
   "source": [
    "print(K.list())"
   ]
  },
  {
   "cell_type": "markdown",
   "metadata": {},
   "source": [
    "Vamos a mostrar los elementos de este cuerpo en formato hexadecimal (una sola cifra basta en este caso).\n",
    "Para ello a cada elemento de $K$ le hacemos lo siguiente:\n",
    "- Lo escribimos como polinomio en $u$.\n",
    "- Ese polinomio lo vemos como polinomio con coeficientes en $\\mathbb{Z}$ y lo evalúamos en $2$.\n",
    "- Usamos una función de `python` que convierte este entero en un carácter hexadecimal en $\\{0,1,\\dots,9,A,B,C,D,E,F\\}$. "
   ]
  },
  {
   "cell_type": "code",
   "execution_count": 57,
   "metadata": {},
   "outputs": [
    {
     "name": "stdout",
     "output_type": "stream",
     "text": [
      "El elemento  0  es el hexadecimal 0x0\n",
      "El elemento  u  es el hexadecimal 0x2\n",
      "El elemento  u^2  es el hexadecimal 0x4\n",
      "El elemento  u + 1  es el hexadecimal 0x3\n",
      "El elemento  u^2 + u  es el hexadecimal 0x6\n",
      "El elemento  u^2 + u + 1  es el hexadecimal 0x7\n",
      "El elemento  u^2 + 1  es el hexadecimal 0x5\n",
      "El elemento  1  es el hexadecimal 0x1\n"
     ]
    },
    {
     "ename": "IndexError",
     "evalue": "list index out of range",
     "output_type": "error",
     "traceback": [
      "\u001b[0;31m---------------------------------------------------------------------------\u001b[0m",
      "\u001b[0;31mIndexError\u001b[0m                                Traceback (most recent call last)",
      "\u001b[0;32m<ipython-input-57-dacc0a074afd>\u001b[0m in \u001b[0;36m<module>\u001b[0;34m\u001b[0m\n\u001b[1;32m      2\u001b[0m \u001b[0mU\u001b[0m\u001b[0;34m=\u001b[0m\u001b[0;34m[\u001b[0m\u001b[0mhex\u001b[0m\u001b[0;34m(\u001b[0m\u001b[0mel\u001b[0m\u001b[0;34m.\u001b[0m\u001b[0mpolynomial\u001b[0m\u001b[0;34m(\u001b[0m\u001b[0;34m)\u001b[0m\u001b[0;34m.\u001b[0m\u001b[0mchange_ring\u001b[0m\u001b[0;34m(\u001b[0m\u001b[0mZZ\u001b[0m\u001b[0;34m)\u001b[0m\u001b[0;34m(\u001b[0m\u001b[0mInteger\u001b[0m\u001b[0;34m(\u001b[0m\u001b[0;36m2\u001b[0m\u001b[0;34m)\u001b[0m\u001b[0;34m)\u001b[0m\u001b[0;34m)\u001b[0m \u001b[0;32mfor\u001b[0m \u001b[0mel\u001b[0m \u001b[0;32min\u001b[0m \u001b[0mKelementos\u001b[0m\u001b[0;34m]\u001b[0m\u001b[0;34m\u001b[0m\u001b[0;34m\u001b[0m\u001b[0m\n\u001b[1;32m      3\u001b[0m \u001b[0;32mfor\u001b[0m \u001b[0mj\u001b[0m \u001b[0;32min\u001b[0m \u001b[0mrange\u001b[0m\u001b[0;34m(\u001b[0m\u001b[0mInteger\u001b[0m\u001b[0;34m(\u001b[0m\u001b[0;36m16\u001b[0m\u001b[0;34m)\u001b[0m\u001b[0;34m)\u001b[0m\u001b[0;34m:\u001b[0m\u001b[0;34m\u001b[0m\u001b[0;34m\u001b[0m\u001b[0m\n\u001b[0;32m----> 4\u001b[0;31m     \u001b[0mprint\u001b[0m\u001b[0;34m(\u001b[0m\u001b[0;34m\"El elemento \"\u001b[0m\u001b[0;34m,\u001b[0m\u001b[0mKelementos\u001b[0m\u001b[0;34m[\u001b[0m\u001b[0mj\u001b[0m\u001b[0;34m]\u001b[0m\u001b[0;34m,\u001b[0m\u001b[0;34m\" es el hexadecimal\"\u001b[0m\u001b[0;34m,\u001b[0m\u001b[0mU\u001b[0m\u001b[0;34m[\u001b[0m\u001b[0mj\u001b[0m\u001b[0;34m]\u001b[0m\u001b[0;34m)\u001b[0m\u001b[0;34m\u001b[0m\u001b[0;34m\u001b[0m\u001b[0m\n\u001b[0m",
      "\u001b[0;31mIndexError\u001b[0m: list index out of range"
     ]
    }
   ],
   "source": [
    "Kelementos=K.list()\n",
    "U=[hex(el.polynomial().change_ring(ZZ)(2)) for el in Kelementos]\n",
    "for j in range(16):\n",
    "    print(\"El elemento \",Kelementos[j],\" es el hexadecimal\",U[j])"
   ]
  },
  {
   "cell_type": "markdown",
   "metadata": {},
   "source": [
    "Ahora vemos cómo es la tabla de multiplicar. Os invitamos a usar la ayuda."
   ]
  },
  {
   "cell_type": "code",
   "execution_count": null,
   "metadata": {},
   "outputs": [],
   "source": [
    "K.multiplication_table(names=U,elements=Kelementos)"
   ]
  },
  {
   "cell_type": "markdown",
   "metadata": {},
   "source": [
    "Podemos pasar de hexadecimal a binario con ayuda del siguiente programa y recuperar el polinomio de partida."
   ]
  },
  {
   "cell_type": "code",
   "execution_count": null,
   "metadata": {},
   "outputs": [],
   "source": [
    "def hex2bin(h,n):\n",
    "    h_aux=bin(int(h,16))[2:].zfill(n)\n",
    "    return vector([Z2(i)for i in range(len(h_aux))])"
   ]
  },
  {
   "cell_type": "code",
   "execution_count": null,
   "metadata": {},
   "outputs": [],
   "source": [
    "def hex2bin(h,n):\n",
    "    n=len(h)-2\n",
    "    h_aux=bin(int(h,16))[2:].zfill(n)\n",
    "    return vector([eval(h_aux[i]) for i in range(len(h_aux))])"
   ]
  },
  {
   "cell_type": "code",
   "execution_count": null,
   "metadata": {},
   "outputs": [],
   "source": [
    "h=U[7]\n",
    "h"
   ]
  },
  {
   "cell_type": "code",
   "execution_count": null,
   "metadata": {},
   "outputs": [],
   "source": [
    "xs=vector([K(u^i) for i in range(4)])"
   ]
  },
  {
   "cell_type": "code",
   "execution_count": null,
   "metadata": {},
   "outputs": [],
   "source": [
    "u, K"
   ]
  },
  {
   "cell_type": "code",
   "execution_count": null,
   "metadata": {},
   "outputs": [],
   "source": [
    "hex2bin(h,n)*xs\n",
    "    "
   ]
  },
  {
   "cell_type": "markdown",
   "metadata": {},
   "source": [
    "El polinomio original $P$ se puede recuperar. Dado que el resto de $P(u)$ módulo $P$ es cero, entonces, si *evalúamos* $P$ en $u$ el resultado es cero. Además usando el teorema de divisón $P$ es el polinomio mónico no nulo de grado más pequeño que se anula al evaluarlo en $u$."
   ]
  },
  {
   "cell_type": "code",
   "execution_count": null,
   "metadata": {},
   "outputs": [],
   "source": [
    "P=u.minpoly()\n",
    "P"
   ]
  },
  {
   "cell_type": "code",
   "execution_count": null,
   "metadata": {},
   "outputs": [],
   "source": [
    "P(x=u)"
   ]
  },
  {
   "cell_type": "markdown",
   "metadata": {},
   "source": [
    "¿Y qué pasa si queremos ver el mismo cuerpo con otro polinomio irreducible?"
   ]
  },
  {
   "cell_type": "code",
   "execution_count": null,
   "metadata": {},
   "outputs": [],
   "source": [
    "Q=x^4+x\n",
    "K1.<v>=FiniteField(16,modulus=Q)"
   ]
  },
  {
   "cell_type": "markdown",
   "metadata": {},
   "source": [
    "Como el polinomio no es irreducible, nos da error. Corrijamos."
   ]
  },
  {
   "cell_type": "code",
   "execution_count": null,
   "metadata": {},
   "outputs": [],
   "source": [
    "Q=x^4+x^3+1\n",
    "K1.<v>=FiniteField(16,modulus=Q)"
   ]
  },
  {
   "cell_type": "code",
   "execution_count": null,
   "metadata": {},
   "outputs": [],
   "source": [
    "v.minpoly()"
   ]
  },
  {
   "cell_type": "markdown",
   "metadata": {},
   "source": [
    "Todos los elementos tienen un *polinomio mínimo*"
   ]
  },
  {
   "cell_type": "code",
   "execution_count": null,
   "metadata": {},
   "outputs": [],
   "source": [
    "for w in K:\n",
    "    print(\"El polinomio mínimo de \",w,\" es \",w.minpoly())"
   ]
  },
  {
   "cell_type": "markdown",
   "metadata": {},
   "source": [
    "**Problema 9.** Verifica con `Sagemath` los problemas 20 a 27 de los apuntes."
   ]
  },
  {
   "cell_type": "markdown",
   "metadata": {},
   "source": [
    "## Problema 20\n",
    "Encuentra una forma cómoda de sumar elementos de un cuerpo cuando estos se representan en binario o en hexadecimal, tal y como se ha presentado en el párrafo anterior. Por\n",
    "ejemplo, calcula $6E + 55$."
   ]
  },
  {
   "cell_type": "code",
   "execution_count": null,
   "metadata": {},
   "outputs": [],
   "source": [
    "#creo el cuerpo\n",
    "K.<u>=GF(8)\n",
    "elementos=K.list()\n",
    "print(elementos)\n",
    "#lo paso a \n",
    "U=[hex(el.polynomial().change_ring(ZZ)(2)) for el in elementos]\n",
    "for i in range(0,8):\n",
    "    U[i]=U[i][:2]\n",
    "    U.sort()\n",
    "show(K.multiplication_table(names=U,elements=elementos))\n",
    "\n",
    "Z2=GF(2)\n",
    "R=Z2[x]\n",
    "f=R(x^3+x+1)\n",
    "xs=vector([R(x^i)for i in range(3)])\n",
    "restos = [vector(i)*xs for i in Z2^3]\n",
    "restos\n",
    "show(K.multiplication_table(names=U,elements=restos))\n"
   ]
  },
  {
   "cell_type": "markdown",
   "metadata": {},
   "source": [
    "## Problema 21\n",
    "Confecciona la tabla de multiplicar del cuerpo de 8 elementos. (Utiliza el polinomio\n",
    "irreducible $x^3 + x + 1$ y numera cada uno de esos elementos mediante la expresión hexadecimal\n",
    "correspondiente a su expresión en binario)."
   ]
  },
  {
   "cell_type": "code",
   "execution_count": null,
   "metadata": {},
   "outputs": [],
   "source": [
    "#creo mi cuerpo\n",
    "K.<u>=GF(8)\n",
    "print(K.list())\n",
    "Kelementos=K.list()\n",
    "#lo paso a notacion hexadecimal\n",
    "U=[hex(el.polynomial().change_ring(ZZ)(2)) for el in Kelementos]\n",
    "#muestro la tabla\n",
    "K.multiplication_table(names=U,elements=Kelementos)"
   ]
  },
  {
   "cell_type": "markdown",
   "metadata": {},
   "source": [
    "## Problema 22\n",
    "El sistema criptográfico AES utiliza el cuerpo de 256 elementos construido sobre\n",
    "uno de los polinomios irreducibles del ejercicio 19. En ese cuerpo calcula:\n",
    "- $(x^4 + x + 1)/(x^7 + x^6 + x^3 + x^2)$.\n",
    "- Los productos $03 \\cdot 25$, $C2 \\cdot 2F$ y $DE \\cdot A0$.\n",
    "- Los inversos de $C2$, $BF$ y $78$.\n",
    "- Los cocientes $12/DD$ y $7B/33$."
   ]
  },
  {
   "cell_type": "code",
   "execution_count": null,
   "metadata": {},
   "outputs": [],
   "source": []
  },
  {
   "cell_type": "markdown",
   "metadata": {},
   "source": [
    "## Problema 23 (enero 2015). \n",
    "Sea $\\mathbb F$ un cuerpo finito de característica 2. Prueba las siguientes afirmaciones.\n",
    "- En $\\mathbb F[x]$ se tiene que $(x + 1)^2 = x^2 + 1$.\n",
    "- La única solución de $x^2 + 1 = 0$ es $1 \\in \\mathbb F$.\n",
    "- Para $a \\in\\mathbb F$, si $a\\neq 0, 1$ se tiene que $a^2\\neq 1$, $a^2\\neq a$, $a^2\\neq 0$."
   ]
  },
  {
   "cell_type": "code",
   "execution_count": null,
   "metadata": {},
   "outputs": [],
   "source": [
    "Z2=GF(8)\n"
   ]
  },
  {
   "cell_type": "markdown",
   "metadata": {},
   "source": [
    "## Problema 24 (enero 2015). \n",
    "Sean $\\{0, 1, a, b\\}$ todos los elementos de un cuerpo. Construye las tablas\n",
    "de sumar y de multiplicar de ese cuerpo."
   ]
  },
  {
   "cell_type": "code",
   "execution_count": 15,
   "metadata": {},
   "outputs": [
    {
     "name": "stdout",
     "output_type": "stream",
     "text": [
      "[0, z2, z2 + 1, 1]\n"
     ]
    },
    {
     "data": {
      "text/plain": [
       "  *  0x0 0x2 0x3 0x1\n",
       "   +----------------\n",
       "0x0| 0x0 0x0 0x0 0x0\n",
       "0x2| 0x0 0x3 0x1 0x2\n",
       "0x3| 0x0 0x1 0x2 0x3\n",
       "0x1| 0x0 0x2 0x3 0x1\n"
      ]
     },
     "execution_count": 15,
     "metadata": {},
     "output_type": "execute_result"
    }
   ],
   "source": [
    "K=GF(4)\n",
    "print(K.list())\n",
    "Kelementos=K.list()\n",
    "U=[hex(el.polynomial().change_ring(ZZ)(2)) for el in Kelementos]\n",
    "K.multiplication_table(names=U,elements=Kelementos)"
   ]
  },
  {
   "cell_type": "markdown",
   "metadata": {},
   "source": [
    "## Problema 25 (2014). \n",
    "En el cuerpo $\\mathbb Z_{11}$ calcula los inversos de 7, 8 y 9 (haz al menos uno de ellos\n",
    "con el algoritmo de Euclides extendido).\n"
   ]
  },
  {
   "cell_type": "code",
   "execution_count": null,
   "metadata": {},
   "outputs": [],
   "source": []
  },
  {
   "cell_type": "markdown",
   "metadata": {},
   "source": [
    "## Problema 26 (2014).\n",
    "- Comprueba que el polinomio $x^3 + x^2 + 1$ es irreducible en el anillo $\\mathbb Z_2 [x]$.\n",
    "- Considera el cuerpo construido sobre el polinomio del apartado anterior. Representa sus 8\n",
    "elementos mediante polinomios, en notación binaria y en notación hexadecimal.\n",
    "- Con la notación hexadecimal, calcula el inverso de 2 y el cociente 5/2."
   ]
  },
  {
   "cell_type": "code",
   "execution_count": null,
   "metadata": {},
   "outputs": [],
   "source": []
  },
  {
   "cell_type": "markdown",
   "metadata": {},
   "source": [
    "## Problema 27 (diciembre 2015). \n",
    "Considera el cuerpo $\\mathbb F$ de 8 elementos construido con el polinomio $x^3 + x + 1 \\in \\mathbb Z_2 [x]$. \n",
    "Utilizamos notación hexadecimal para denotar a los elementos de $\\mathbb F$. Encuentra la solución de la siguiente ecuación en $\\mathbb F$:\n",
    "    $$a \\cdot 3 + 7 = 0.$$"
   ]
  },
  {
   "cell_type": "code",
   "execution_count": null,
   "metadata": {},
   "outputs": [],
   "source": []
  },
  {
   "cell_type": "code",
   "execution_count": null,
   "metadata": {},
   "outputs": [],
   "source": []
  },
  {
   "cell_type": "code",
   "execution_count": null,
   "metadata": {},
   "outputs": [],
   "source": []
  },
  {
   "cell_type": "code",
   "execution_count": null,
   "metadata": {},
   "outputs": [],
   "source": []
  }
 ],
 "metadata": {
  "kernelspec": {
   "display_name": "SageMath 9.4",
   "language": "sage",
   "name": "sagemath"
  },
  "language_info": {
   "codemirror_mode": {
    "name": "ipython",
    "version": 3
   },
   "file_extension": ".py",
   "mimetype": "text/x-python",
   "name": "python",
   "nbconvert_exporter": "python",
   "pygments_lexer": "ipython3",
   "version": "3.9.5"
  }
 },
 "nbformat": 4,
 "nbformat_minor": 4
}
